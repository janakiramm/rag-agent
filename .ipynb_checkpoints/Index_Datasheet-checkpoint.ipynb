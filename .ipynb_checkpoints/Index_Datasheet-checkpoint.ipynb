{
 "cells": [
  {
   "cell_type": "markdown",
   "id": "8de681da-7b39-40e5-9caf-839f33d8c27d",
   "metadata": {},
   "source": [
    "### Import Modules"
   ]
  },
  {
   "cell_type": "code",
   "execution_count": null,
   "id": "af1fe1f9-dbe2-4e20-a753-e88bb8d37fbc",
   "metadata": {},
   "outputs": [],
   "source": [
    "from PyPDF2 import PdfReader\n",
    "import io\n",
    "import chromadb\n",
    "from chromadb.config import Settings\n",
    "from chromadb.utils import embedding_functions\n",
    "import re\n",
    "from typing import List, Dict"
   ]
  },
  {
   "cell_type": "markdown",
   "id": "5b7cba44-3acc-4cc0-924a-8d1102f0b16a",
   "metadata": {},
   "source": [
    "### Initialize Chroma"
   ]
  },
  {
   "cell_type": "code",
   "execution_count": null,
   "id": "a2374fbb-a2ed-479a-8da6-a7119a04cb6c",
   "metadata": {},
   "outputs": [],
   "source": [
    "chroma_client = chromadb.PersistentClient(path=\"./data\")\n",
    "embedding_function = embedding_functions.SentenceTransformerEmbeddingFunction(model_name=\"all-MiniLM-L6-v2\")\n",
    "collection = chroma_client.get_or_create_collection(name=\"products\", embedding_function=embedding_function)"
   ]
  },
  {
   "cell_type": "markdown",
   "id": "c0b37775-c500-41f9-83eb-bb8090b87811",
   "metadata": {},
   "source": [
    "### Helper functions"
   ]
  },
  {
   "cell_type": "markdown",
   "id": "4b1096f9-88e9-4792-8aab-e9cad7bf3472",
   "metadata": {},
   "source": [
    "#### Load PDF"
   ]
  },
  {
   "cell_type": "code",
   "execution_count": null,
   "id": "02d3f327-8d1d-47a4-8b17-b13dad4376c1",
   "metadata": {},
   "outputs": [],
   "source": [
    "def load_pdf(pdf_file: str, word: int) -> Dict[int, List[str]]:\n",
    "    reader = PdfReader(pdf_file)    \n",
    "    documents = {}\n",
    "    for page_no in range(len(reader.pages)):        \n",
    "        page = reader.pages[page_no]\n",
    "        text = page.extract_text() \n",
    "        text_chunks = get_text_chunks(text, word)\n",
    "        documents[page_no] = text_chunks\n",
    "    return documents"
   ]
  },
  {
   "cell_type": "markdown",
   "id": "1a480b7f-ad32-49aa-90aa-a6601cef33bf",
   "metadata": {},
   "source": [
    "#### Generate Chunks based on each sentence"
   ]
  },
  {
   "cell_type": "code",
   "execution_count": null,
   "id": "23b461da-97f5-4513-a6b9-5e20692edc67",
   "metadata": {},
   "outputs": [],
   "source": [
    "def get_text_chunks(text: str, word_limit: int) -> List[str]:\n",
    "    sentences = re.split(r'(?<!\\w\\.\\w.)(?<![A-Z][a-z]\\.)(?<=\\.|\\?)\\s', text)\n",
    "    chunks = []\n",
    "    current_chunk = []\n",
    "\n",
    "    for sentence in sentences:\n",
    "        words = sentence.split()\n",
    "        if len(\" \".join(current_chunk + words)) <= word_limit:\n",
    "            current_chunk.extend(words)\n",
    "        else:\n",
    "            chunks.append(\" \".join(current_chunk))\n",
    "            current_chunk = words\n",
    "\n",
    "    if current_chunk:\n",
    "        chunks.append(\" \".join(current_chunk))\n",
    "\n",
    "    return chunks"
   ]
  },
  {
   "cell_type": "markdown",
   "id": "de3e27c8-74db-4efa-95ff-7df9f8f8c92b",
   "metadata": {},
   "source": [
    "#### Add the chunks as vectors to ChromaDB"
   ]
  },
  {
   "cell_type": "code",
   "execution_count": null,
   "id": "2a4173ea-363e-4642-96ce-967b5d21df75",
   "metadata": {},
   "outputs": [],
   "source": [
    "def index_document(pdf_file: str, word: int = 300) -> None:    \n",
    "    docs = load_pdf(pdf_file, word)    \n",
    "\n",
    "    docs_strings = []  \n",
    "    ids = []  \n",
    "    metadatas = []  \n",
    "    id = 0  \n",
    "        \n",
    "    for page_no in docs.keys():\n",
    "        for doc in docs[page_no]:        \n",
    "            docs_strings.append(doc)                        \n",
    "            metadatas.append({'page_no': page_no,\"pdf_name\": pdf_file})\n",
    "            ids.append(id)\n",
    "            id += 1\n",
    "\n",
    "    collection.add(\n",
    "        ids=[str(id) for id in ids],  \n",
    "        documents=docs_strings,  \n",
    "        metadatas=metadatas,  \n",
    "    )    "
   ]
  },
  {
   "cell_type": "markdown",
   "id": "b367afd2-1538-4b08-853e-1e7e58501601",
   "metadata": {},
   "source": [
    "### Index the PDF"
   ]
  },
  {
   "cell_type": "code",
   "execution_count": null,
   "id": "2e92e6d7-aa8f-4e75-9714-fbaf944527d0",
   "metadata": {},
   "outputs": [],
   "source": [
    "DOC=\"data/datasheet.pdf\"\n",
    "index_document(DOC)"
   ]
  },
  {
   "cell_type": "markdown",
   "id": "6edfab04-d187-49d7-88f7-44ef418cbb47",
   "metadata": {},
   "source": [
    "### Perform semantic search"
   ]
  },
  {
   "cell_type": "code",
   "execution_count": null,
   "id": "34472b95-ed41-4846-bb13-a48a79de7710",
   "metadata": {},
   "outputs": [],
   "source": [
    "def search(query):\n",
    "    vector = embedding_function([query])\n",
    "    results = collection.query(    \n",
    "        query_embeddings=vector,\n",
    "        n_results=5,\n",
    "        include=[\"documents\"]\n",
    "    )\n",
    "    res = \" \\n\".join(str(item) for item in results['documents'][0])\n",
    "    return res"
   ]
  },
  {
   "cell_type": "code",
   "execution_count": null,
   "id": "c7bcb1a4-5bf2-46a6-b02d-bb1a4ece303b",
   "metadata": {},
   "outputs": [],
   "source": [
    "res=search(\"Available Memory in Nimbus Book\")"
   ]
  },
  {
   "cell_type": "code",
   "execution_count": null,
   "id": "1aa43645-7228-46ab-81b9-0a2724d47c1a",
   "metadata": {},
   "outputs": [],
   "source": [
    "print(res)"
   ]
  }
 ],
 "metadata": {
  "kernelspec": {
   "display_name": "Python 3 (ipykernel)",
   "language": "python",
   "name": "python3"
  },
  "language_info": {
   "codemirror_mode": {
    "name": "ipython",
    "version": 3
   },
   "file_extension": ".py",
   "mimetype": "text/x-python",
   "name": "python",
   "nbconvert_exporter": "python",
   "pygments_lexer": "ipython3",
   "version": "3.10.13"
  }
 },
 "nbformat": 4,
 "nbformat_minor": 5
}
